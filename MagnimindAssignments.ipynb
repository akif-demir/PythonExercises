{
  "nbformat": 4,
  "nbformat_minor": 0,
  "metadata": {
    "colab": {
      "provenance": [],
      "collapsed_sections": [
        "iIpMzhpWoQ9j",
        "gU65wmTFoC2b",
        "uVtvfcG7n21y"
      ],
      "authorship_tag": "ABX9TyNQYfTC57/Vct9nDGdShNeX",
      "include_colab_link": true
    },
    "kernelspec": {
      "name": "python3",
      "display_name": "Python 3"
    },
    "language_info": {
      "name": "python"
    }
  },
  "cells": [
    {
      "cell_type": "markdown",
      "metadata": {
        "id": "view-in-github",
        "colab_type": "text"
      },
      "source": [
        "<a href=\"https://colab.research.google.com/github/akif-demir/PythonExercises/blob/main/MagnimindAssignments.ipynb\" target=\"_parent\"><img src=\"https://colab.research.google.com/assets/colab-badge.svg\" alt=\"Open In Colab\"/></a>"
      ]
    },
    {
      "cell_type": "markdown",
      "source": [
        "#String Assignments"
      ],
      "metadata": {
        "id": "iIpMzhpWoQ9j"
      }
    },
    {
      "cell_type": "markdown",
      "source": [
        "**1.Ask the user to enter their first name and surname in lower case. \n",
        "Change the case to title case and join them together. \n",
        "Display the finished result.**\n",
        "\n",
        "---\n",
        "\n",
        "\n",
        "\n",
        "\n",
        "\n",
        "\n",
        "\n",
        "\n",
        "\n",
        "\n",
        "\n",
        "\n",
        "\n",
        "\n",
        "\n"
      ],
      "metadata": {
        "id": "zHRzcgWaHbbX"
      }
    },
    {
      "cell_type": "code",
      "source": [
        "name = input(\"Please Enter Your First Name in Lower Case: \")\n",
        "surname = input(\"Please Enter Your Surname in Lower Case: \")\n",
        "result = name + \" \" + surname\n",
        "print(result.title())"
      ],
      "metadata": {
        "colab": {
          "base_uri": "https://localhost:8080/"
        },
        "id": "4Rnoii8KHeq2",
        "outputId": "4481e0c9-95ef-405d-9c21-c95be9a61f55"
      },
      "execution_count": null,
      "outputs": [
        {
          "output_type": "stream",
          "name": "stdout",
          "text": [
            "Please Enter Your First Name in Lower Case: akif\n",
            "Please Enter Your Surname in Lower Case: demir\n",
            "Akif Demir\n"
          ]
        }
      ]
    },
    {
      "cell_type": "markdown",
      "source": [
        "**2.Ask the user to type in the first line of a poem Raven by Edgar Allen Poe and display the length of the string. Ask for a starting number and an ending number and then display just that section of the text (remember Python starts counting from 0 and not 1). Here is the poem Raven:**\n",
        "\n",
        "Deep into that darkness peering, \n",
        "\n",
        "Long I stood there, wondering, fearing,\n",
        "\n",
        "Doubting, dreaming dreams no mortals\n",
        "\n",
        "Ever dared to dream before;\n",
        "\n",
        "But the silence was unbroken,\n",
        "\n",
        "And the stillness gave no token,\n",
        "\n",
        "And the only word there spoken\n",
        "\n",
        "Was the whispered word, \"Lenore!\"\n",
        "\n",
        "This I whispered, and an echo\n",
        "\n",
        "Murmured back the word, \"Lenore!\"\n",
        "\n",
        "Merely this, and nothing more. \n",
        "\n",
        "---\n",
        "\n"
      ],
      "metadata": {
        "id": "oEKxoFuyLtgO"
      }
    },
    {
      "cell_type": "code",
      "source": [
        "first_line = input(\"Please Enter Your First Line of poem Raven by Edgar Allen Poe : \")\n",
        "print(\"The length of the poem first line is: \" + str(len(first_line)))\n",
        "print(\"The starting character of the poem first line is: \" + first_line[0])\n",
        "print(\"The ending character of the poem first line is: \" + first_line[-1])"
      ],
      "metadata": {
        "colab": {
          "base_uri": "https://localhost:8080/"
        },
        "id": "W7ebPjmsMLYx",
        "outputId": "452f35b4-e10a-487b-88ed-b2a4e09de187"
      },
      "execution_count": null,
      "outputs": [
        {
          "output_type": "stream",
          "name": "stdout",
          "text": [
            "Please Enter Your First Line of poem Raven by Edgar Allen Poe : Deep into that darkness peering,\n",
            "The length of the poem first line is: 32\n",
            "The starting character of the poem first line is: D\n",
            "The ending character of the poem first line is: ,\n"
          ]
        }
      ]
    },
    {
      "cell_type": "markdown",
      "source": [
        "**3.Removes extra characters from the start and end of a string and explain why you need to remove white spaces while exploring text.**\n",
        "\n",
        "The reason why we remove it is because Python process these white space and if we have no idea about white spaces, there cannot properly process the text."
      ],
      "metadata": {
        "id": "YkYnRtehTm7m"
      }
    },
    {
      "cell_type": "code",
      "source": [
        "my_string = \"  We should always removes extra characters from the start and end of string.   \"\n",
        "print(\"My uncleaned string is :\" + my_string)\n",
        "print(\"My uncleaned string length is :\" + str(len(my_string)))\n",
        "my_new_string = my_string.strip()\n",
        "print(\"My cleaned string length is :\" + str(len(my_new_string)))"
      ],
      "metadata": {
        "colab": {
          "base_uri": "https://localhost:8080/"
        },
        "id": "lhMQdj0jUKil",
        "outputId": "4daad853-ba38-4bd7-d66c-353081510632"
      },
      "execution_count": null,
      "outputs": [
        {
          "output_type": "stream",
          "name": "stdout",
          "text": [
            "My uncleaned string is :  We should always removes extra characters from the start and end of string.   \n",
            "My uncleaned string length is :80\n",
            "My cleaned string length is :75\n"
          ]
        }
      ]
    },
    {
      "cell_type": "markdown",
      "source": [
        "#Data Types Assignments"
      ],
      "metadata": {
        "id": "gU65wmTFoC2b"
      }
    },
    {
      "cell_type": "markdown",
      "source": [
        "**1.Suppose you invested in Bitcoin at the end of 2020 when Bitcoin gained a lot of value. What would be your money at the end of a week if you had invested $1000 with an average daily increase of 12% ? You can solve the problem using Python.**\n",
        "\n",
        "**Help**\n",
        "\n",
        "Create a variable capital ($1000)\n",
        "\n",
        "Create a variable for daily growth (12%)\n",
        "\n",
        "Create a variable for period (7)\n",
        "\n",
        "Calculate the final growth rate\n",
        "\n",
        "Calculate result\n",
        "\n",
        "Print result\n"
      ],
      "metadata": {
        "id": "dXLkur1WfCLe"
      }
    },
    {
      "cell_type": "code",
      "source": [
        "capital = 1000\n",
        "daily_growth = 1.12\n",
        "period = 7\n",
        "day1_capital = capital * daily_growth\n",
        "print(day1_capital)\n",
        "day2_capital = day1_capital * daily_growth\n",
        "print(day2_capital)\n",
        "day3_capital = day2_capital * daily_growth\n",
        "print(day3_capital)\n",
        "day4_capital = day3_capital * daily_growth\n",
        "print(day4_capital)\n",
        "day5_capital = day4_capital * daily_growth\n",
        "print(day5_capital)\n",
        "day6_capital = day5_capital * daily_growth\n",
        "print(day6_capital)\n",
        "end_of_weekly_capital = day6_capital * daily_growth\n",
        "print(\"end_of_weekly_capital is: \" + str(end_of_weekly_capital))\n",
        "\n",
        "final_growth_rate =  end_of_weekly_capital / capital * 100\n",
        "print(final_growth_rate)\n",
        "print(\"final_growth_rate is :\" + str(final_growth_rate))\n",
        "check_capital_final_growth_rate = capital * final_growth_rate / 100\n",
        "print(\"check_capital_final_growth_rate is : \" + str(check_capital_final_growth_rate))"
      ],
      "metadata": {
        "colab": {
          "base_uri": "https://localhost:8080/"
        },
        "id": "jV4Sg6Bwfq_Q",
        "outputId": "f76f6c30-c74b-439f-8b1d-38abe9c1345d"
      },
      "execution_count": null,
      "outputs": [
        {
          "output_type": "stream",
          "name": "stdout",
          "text": [
            "1120.0\n",
            "1254.4\n",
            "1404.9280000000003\n",
            "1573.5193600000005\n",
            "1762.3416832000007\n",
            "1973.822685184001\n",
            "end_of_weekly_capital is: 2210.6814074060812\n",
            "221.06814074060816\n",
            "final_growth_rate is :221.06814074060816\n",
            "check_capital_final_growth_rate is : 2210.6814074060817\n"
          ]
        }
      ]
    },
    {
      "cell_type": "markdown",
      "source": [
        "**2-Print the text in quotes with Python. However, you must get the numbers from variables using .format() notation. Because the text is long, you might consider writing in two lines:**\n",
        "\n",
        "\"When we buy bitcoin with 1000 USD at the beginning of the week, we would earn 1210.68 USD at the end of the week, with an average gain of 12\\%.\""
      ],
      "metadata": {
        "id": "i_uY7shUj99h"
      }
    },
    {
      "cell_type": "code",
      "source": [
        "my_str = \"When we buy bitcoin with 1000 USD at the beginning of the week, we would earn 1210.68 USD at the end of the week, with an average gain of 12%.\"\n",
        "my_firstline_str = \"When we buy bitcoin with 1000 USD at the beginning of the week,\"\n",
        "my_secondline_str = \"we would earn 1210.68 USD at the end of the week, with an average gain of 12%.\"\n",
        "print('{}{}{}'.format(my_firstline_str,\"\\n\",my_secondline_str))"
      ],
      "metadata": {
        "colab": {
          "base_uri": "https://localhost:8080/"
        },
        "id": "h0zyGEYJhgZd",
        "outputId": "63161333-21aa-478e-e650-4770693f1af0"
      },
      "execution_count": null,
      "outputs": [
        {
          "output_type": "stream",
          "name": "stdout",
          "text": [
            "When we buy bitcoin with 1000 USD at the beginning of the week,\n",
            "we would earn 1210.68 USD at the end of the week, with an average gain of 12%.\n"
          ]
        }
      ]
    },
    {
      "cell_type": "markdown",
      "source": [
        "**3-Get the temperature in Fahrenheit from user and write a code to convert it to Celcius. For conversion, you can use this formula: C = (5/9) * (F - 32)**\n",
        "\n",
        "Enter the temperature in Fahrenheit:\n",
        "\n",
        "user --> 26\n",
        "\n",
        "output --> Temperature (C) : -3.33"
      ],
      "metadata": {
        "id": "zKHxsgyjQj_F"
      }
    },
    {
      "cell_type": "code",
      "source": [
        "#cel_to_fah = (cel + 32) * (5/9)\n",
        "fah = 26\n",
        "fah_to_cel = (fah - 32) * (5/9)\n",
        "print(fah_to_cel)\n"
      ],
      "metadata": {
        "id": "porJHF0-laAA",
        "colab": {
          "base_uri": "https://localhost:8080/"
        },
        "outputId": "d22588fb-e001-45b7-f074-7171116019e2"
      },
      "execution_count": 42,
      "outputs": [
        {
          "output_type": "stream",
          "name": "stdout",
          "text": [
            "-3.3333333333333335\n"
          ]
        }
      ]
    },
    {
      "cell_type": "markdown",
      "source": [
        "**4-Get a three digit number the from user and calculate the sum of the digits in the integer.**\n",
        "\n",
        "user --> 365\n",
        "\n",
        "output --> \"The sum of digits in the number is 14"
      ],
      "metadata": {
        "id": "yZbhO09dQksb"
      }
    },
    {
      "cell_type": "code",
      "source": [
        "get_three = input(\"Please enter a 3 digit number: \")\n",
        "result = int(get_three[0]) + int(get_three[1]) + int(get_three[2])\n",
        "#print(int(get_three[0]))\n",
        "#print(type(get_three))\n",
        "print(result)"
      ],
      "metadata": {
        "colab": {
          "base_uri": "https://localhost:8080/"
        },
        "id": "rUhSvswpMoXO",
        "outputId": "d34c0720-2098-4bc6-eacb-30627f6a68b7"
      },
      "execution_count": 19,
      "outputs": [
        {
          "output_type": "stream",
          "name": "stdout",
          "text": [
            "Please enter a 3 digit number: 365\n",
            "14\n"
          ]
        }
      ]
    },
    {
      "cell_type": "markdown",
      "source": [
        "**5-Write some code to calculate the hypotenuse of a right angled triangle. Get the side lengths from the user.**\n",
        "\n",
        "user --> first side lenth : 6\n",
        "\n",
        "user --> first side lenth : 8\n",
        "\n",
        "output --> \"The length of the hypotenuse is 10"
      ],
      "metadata": {
        "id": "ZofS0DbLQlcn"
      }
    },
    {
      "cell_type": "code",
      "source": [
        "first_side = int(input(\"Please enter first side length : \"))\n",
        "second_side = int(input(\"Please enter second side length : \"))\n",
        "\n",
        "print(type(first_side))\n",
        "print(type(second_side))\n",
        "\n",
        "two_sides = (first_side ** 2) + (second_side ** 2)\n",
        "print(type(two_sides))\n",
        "\n",
        "hypo = two_sides ** (1/2)\n",
        "print(hypo)"
      ],
      "metadata": {
        "colab": {
          "base_uri": "https://localhost:8080/"
        },
        "id": "f6jdIO9sMoHW",
        "outputId": "56918013-b53e-406c-d9d8-e5ac4c63d00e"
      },
      "execution_count": 37,
      "outputs": [
        {
          "output_type": "stream",
          "name": "stdout",
          "text": [
            "Please enter first side length : 6\n",
            "Please enter second side length : 8\n",
            "<class 'int'>\n",
            "<class 'int'>\n",
            "<class 'int'>\n",
            "10.0\n"
          ]
        }
      ]
    },
    {
      "cell_type": "markdown",
      "source": [
        "#List Assignments"
      ],
      "metadata": {
        "id": "uVtvfcG7n21y"
      }
    },
    {
      "cell_type": "markdown",
      "source": [
        "**1- Write a code to compute the sum of the two lowest numbers and the two highest numbers in the following list.**\n",
        "\n",
        "my_list = [34, 56, 76, 45, 2, 12, 67, 98, 37, 54, 66]\n",
        "\n"
      ],
      "metadata": {
        "id": "gNIrgo6gVhGY"
      }
    },
    {
      "cell_type": "code",
      "source": [
        "my_list = [34, 56, 76, 45, 2, 12, 67, 98, 37, 54, 66]\n",
        "my_list.sort()\n",
        "print(my_list)\n",
        "two_lowest = str(my_list[0:2])\n",
        "two_highest = str(my_list[-2:])\n",
        "print(\"The two lowest numbers are : \" + two_lowest)\n",
        "print(\"The two heighest numbers are : \" + two_highest)"
      ],
      "metadata": {
        "colab": {
          "base_uri": "https://localhost:8080/"
        },
        "id": "1lLoHAD7VBCT",
        "outputId": "de7081c8-ffd2-4bc0-84d2-17d4a2816514"
      },
      "execution_count": 53,
      "outputs": [
        {
          "output_type": "stream",
          "name": "stdout",
          "text": [
            "[2, 12, 34, 37, 45, 54, 56, 66, 67, 76, 98]\n",
            "The two lowest numbers are : [2, 12]\n",
            "The two heighest numbers are : [76, 98]\n"
          ]
        }
      ]
    },
    {
      "cell_type": "markdown",
      "source": [
        "**2- The following two lists contain student names and scores. Write a code that gets the name from the user and prints the score of that student.**\n",
        "\n",
        "names = [\"David\", \"Michael\", \"John\", \"James\", \"Greg\", \"Mark\", \"William\", \"Richard\", \"Thomas\", \"Steven\",\n",
        "\n",
        "   \"Mary\", \"Susan\", \"Maria\", \"Karen\", \"Lisa\", \"Linda\", \"Donna\", \"Patricia\", \"Debra\", \"Eric\"]\n",
        "scores = [99, 87, 78, 86, 68, 94, 76, 97, 56, 98, 76, 87, 79, 90, 73, 93, 82, 69, 97, 98]"
      ],
      "metadata": {
        "id": "cSIhQxjgnc_0"
      }
    },
    {
      "cell_type": "code",
      "source": [
        "names = [\"David\", \"Michael\", \"John\", \"James\", \"Greg\", \"Mark\", \"William\", \"Richard\", \"Thomas\", \"Steven\",\"Mary\", \"Susan\", \"Maria\", \"Karen\", \"Lisa\", \"Linda\", \"Donna\", \"Patricia\", \"Debra\", \"Eric\"] \n",
        "scores = [99, 87, 78, 86, 68, 94, 76, 97, 56, 98, 76, 87, 79, 90, 73, 93, 82, 69, 97, 98]\n",
        "find_score = names.index(input(\"What is your name: \"))\n",
        "score_result = find_score\n",
        "print(\"Your score is : \" + str(scores[score_result]))"
      ],
      "metadata": {
        "colab": {
          "base_uri": "https://localhost:8080/"
        },
        "id": "dxKNCN9enjLt",
        "outputId": "3f061c17-6de0-439c-95cb-e65275bdcae6"
      },
      "execution_count": 65,
      "outputs": [
        {
          "output_type": "stream",
          "name": "stdout",
          "text": [
            "What is your name: Thomas\n",
            "Your score is : 56\n"
          ]
        }
      ]
    },
    {
      "cell_type": "markdown",
      "source": [
        "**3- By using the two lists above, what is the maximum score and how many students got that score?**"
      ],
      "metadata": {
        "id": "Ph4pflGlnjzG"
      }
    },
    {
      "cell_type": "code",
      "source": [
        "scores2 = [99, 87, 78, 86, 68, 94, 76, 97, 56, 98, 76, 87, 79, 90, 73, 93, 82, 69, 97, 98]\n",
        "scores2.sort(reverse = True)\n",
        "get_heighest_score = str(scores2[0])\n",
        "print(get_heighest_score)\n",
        "howmany_heighest_score = get_heighest_score.count(get_heighest_score)\n",
        "howmany_heighest_score"
      ],
      "metadata": {
        "colab": {
          "base_uri": "https://localhost:8080/"
        },
        "id": "U3FspYGknpNc",
        "outputId": "af31c3d4-662b-45be-96e1-c57698b60461"
      },
      "execution_count": 83,
      "outputs": [
        {
          "output_type": "stream",
          "name": "stdout",
          "text": [
            "99\n"
          ]
        },
        {
          "output_type": "execute_result",
          "data": {
            "text/plain": [
              "1"
            ]
          },
          "metadata": {},
          "execution_count": 83
        }
      ]
    },
    {
      "cell_type": "markdown",
      "source": [
        "#Dictionary Assignments"
      ],
      "metadata": {
        "id": "DHOww-jubFtB"
      }
    },
    {
      "cell_type": "markdown",
      "source": [
        "**1- Create a dictionary with 7 days. Ask the user to choose 2 different days by listing the (e.g. \"12\" for Monday and Tuesday). Delete the user-selected days from the dictionary and print the remaining 5 days on the screen.**"
      ],
      "metadata": {
        "id": "Pw-poaRJbG4E"
      }
    },
    {
      "cell_type": "code",
      "source": [
        "days = {\"Monday\" : 1 , \"Tuesday\" : 2, \"Wednsday\" : 3, \"Thursday\" : 4, \"Friday\" : 5, \"Saturday\" : 6, \"Sunday\" : 7}\n",
        "user_pick1 = input(\"Please write any one days: \")\n",
        "user_pick2 = input(\"Please write any other days different than first: \")\n",
        "days.pop(user_pick1)\n",
        "days.pop(user_pick2)\n",
        "print(days.keys())\n"
      ],
      "metadata": {
        "colab": {
          "base_uri": "https://localhost:8080/"
        },
        "id": "Rx2fE1nobiZa",
        "outputId": "49972764-6d08-4934-aaa3-ff0b1aa4cb1f"
      },
      "execution_count": 11,
      "outputs": [
        {
          "output_type": "stream",
          "name": "stdout",
          "text": [
            "Please write any one days: Monday\n",
            "Please write any other days different than first: Friday\n",
            "dict_keys(['Tuesday', 'Wednsday', 'Thursday', 'Saturday', 'Sunday'])\n"
          ]
        }
      ]
    },
    {
      "cell_type": "markdown",
      "source": [
        "**2- Create a dictionary with the following personnel. Use names as keys.\n",
        "(Michael (age: 20)\n",
        "(Linda (age: 30)**\n",
        "\n",
        "**\n",
        "Hello @channel , there is something wrong in question 2 in dictionary assignment. Lets put it this way, just create a dictionary with names(michael and linda) and ages and then add some children’s name into the dictionary. Then pick michael from dictionary.**\n"
      ],
      "metadata": {
        "id": "jzucDH5ebH8U"
      }
    },
    {
      "cell_type": "code",
      "source": [
        "personnel = {'Michael': {'age': 20}, 'Linda': {'age': 30}}\n",
        "print(personnel.keys())\n",
        "print(personnel.values())\n",
        "print(personnel[\"Michael\"])\n",
        "print(personnel[\"Linda\"])"
      ],
      "metadata": {
        "colab": {
          "base_uri": "https://localhost:8080/"
        },
        "id": "nm403z-lbjL8",
        "outputId": "ba82c80a-53af-4963-c249-b6e4e334d008"
      },
      "execution_count": 12,
      "outputs": [
        {
          "output_type": "stream",
          "name": "stdout",
          "text": [
            "dict_keys(['Michael', 'Linda'])\n",
            "dict_values([{'age': 20}, {'age': 30}])\n",
            "{'age': 20}\n",
            "{'age': 30}\n"
          ]
        }
      ]
    },
    {
      "cell_type": "markdown",
      "source": [
        "**3- Add child information to Michael and Linda. Michael has two children (Karen (age : 12, female) and Greg (age : 7, male) and Linda has one child (Susan (age: 6, female))**"
      ],
      "metadata": {
        "id": "Tm74EPkObZCu"
      }
    },
    {
      "cell_type": "code",
      "source": [
        "personnelnew = {\"Michael\": {\"age\": 20, \"gender\" : \"male\"},\"Karen\": {\"age\" : 12, \"gender\" : \"female\"},\"Greg\": {\"age\": 7, \"gender\" : \"male\"},\"Linda\": {\"age\": 30, \"gender\" : \"female\"},\"Susan\": {\"age\": 6, \"gender\" : \"female\"}}"
      ],
      "metadata": {
        "id": "sSf4ymdCtuKl"
      },
      "execution_count": 13,
      "outputs": []
    },
    {
      "cell_type": "code",
      "source": [
        "print(personnelnew.keys())\n",
        "print(personnelnew.values())\n",
        "print(personnelnew[\"Michael\"])\n",
        "print(personnelnew[\"Linda\"])"
      ],
      "metadata": {
        "colab": {
          "base_uri": "https://localhost:8080/"
        },
        "id": "bm7wmgjYbj0l",
        "outputId": "ee9eade6-42d3-4016-9967-badf995814d5"
      },
      "execution_count": 14,
      "outputs": [
        {
          "output_type": "stream",
          "name": "stdout",
          "text": [
            "dict_keys(['Michael', 'Karen', 'Greg', 'Linda', 'Susan'])\n",
            "dict_values([{'age': 20, 'gender': 'male'}, {'age': 12, 'gender': 'female'}, {'age': 7, 'gender': 'male'}, {'age': 30, 'gender': 'female'}, {'age': 6, 'gender': 'female'}])\n",
            "{'age': 20, 'gender': 'male'}\n",
            "{'age': 30, 'gender': 'female'}\n"
          ]
        }
      ]
    },
    {
      "cell_type": "markdown",
      "source": [
        "**4- Print the names of Michael's children in a list.**"
      ],
      "metadata": {
        "id": "K-w4eO-ubdn7"
      }
    },
    {
      "cell_type": "code",
      "source": [
        "print(personnelnew[\"Karen\"])\n",
        "print(personnelnew[\"Greg\"])"
      ],
      "metadata": {
        "colab": {
          "base_uri": "https://localhost:8080/"
        },
        "id": "5EFnIYh5bkeC",
        "outputId": "d6c944fc-2b65-4c3c-8871-70826066f673"
      },
      "execution_count": 15,
      "outputs": [
        {
          "output_type": "stream",
          "name": "stdout",
          "text": [
            "{'age': 12, 'gender': 'female'}\n",
            "{'age': 7, 'gender': 'male'}\n"
          ]
        }
      ]
    },
    {
      "cell_type": "code",
      "source": [],
      "metadata": {
        "id": "mdLL6-JxnMc2"
      },
      "execution_count": null,
      "outputs": []
    }
  ]
}
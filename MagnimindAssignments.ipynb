{
  "nbformat": 4,
  "nbformat_minor": 0,
  "metadata": {
    "colab": {
      "provenance": [],
      "collapsed_sections": [],
      "authorship_tag": "ABX9TyMoxQhQQ/Zo++ggW2Md1EZ+",
      "include_colab_link": true
    },
    "kernelspec": {
      "name": "python3",
      "display_name": "Python 3"
    },
    "language_info": {
      "name": "python"
    }
  },
  "cells": [
    {
      "cell_type": "markdown",
      "metadata": {
        "id": "view-in-github",
        "colab_type": "text"
      },
      "source": [
        "<a href=\"https://colab.research.google.com/github/akif-demir/PythonExercises/blob/main/MagnimindAssignments.ipynb\" target=\"_parent\"><img src=\"https://colab.research.google.com/assets/colab-badge.svg\" alt=\"Open In Colab\"/></a>"
      ]
    },
    {
      "cell_type": "markdown",
      "source": [
        "# String Assignment\n",
        "**1.Ask the user to enter their first name and surname in lower case. \n",
        "Change the case to title case and join them together. \n",
        "Display the finished result.**\n",
        "\n",
        "---\n",
        "\n",
        "\n",
        "\n",
        "\n",
        "\n",
        "\n",
        "\n",
        "\n",
        "\n",
        "\n",
        "\n",
        "\n",
        "\n",
        "\n",
        "\n"
      ],
      "metadata": {
        "id": "zHRzcgWaHbbX"
      }
    },
    {
      "cell_type": "code",
      "source": [
        "name = input(\"Please Enter Your First Name in Lower Case: \")\n",
        "surname = input(\"Please Enter Your Surname in Lower Case: \")\n",
        "result = name + \" \" + surname\n",
        "print(result.title())"
      ],
      "metadata": {
        "colab": {
          "base_uri": "https://localhost:8080/"
        },
        "id": "4Rnoii8KHeq2",
        "outputId": "4481e0c9-95ef-405d-9c21-c95be9a61f55"
      },
      "execution_count": 8,
      "outputs": [
        {
          "output_type": "stream",
          "name": "stdout",
          "text": [
            "Please Enter Your First Name in Lower Case: akif\n",
            "Please Enter Your Surname in Lower Case: demir\n",
            "Akif Demir\n"
          ]
        }
      ]
    },
    {
      "cell_type": "markdown",
      "source": [
        "**2.Ask the user to type in the first line of a poem Raven by Edgar Allen Poe and display the length of the string. Ask for a starting number and an ending number and then display just that section of the text (remember Python starts counting from 0 and not 1). Here is the poem Raven:**\n",
        "\n",
        "Deep into that darkness peering, \n",
        "\n",
        "Long I stood there, wondering, fearing,\n",
        "\n",
        "Doubting, dreaming dreams no mortals\n",
        "\n",
        "Ever dared to dream before;\n",
        "\n",
        "But the silence was unbroken,\n",
        "\n",
        "And the stillness gave no token,\n",
        "\n",
        "And the only word there spoken\n",
        "\n",
        "Was the whispered word, \"Lenore!\"\n",
        "\n",
        "This I whispered, and an echo\n",
        "\n",
        "Murmured back the word, \"Lenore!\"\n",
        "\n",
        "Merely this, and nothing more. \n",
        "\n",
        "---\n",
        "\n"
      ],
      "metadata": {
        "id": "oEKxoFuyLtgO"
      }
    },
    {
      "cell_type": "code",
      "source": [
        "first_line = input(\"Please Enter Your First Line of poem Raven by Edgar Allen Poe : \")\n",
        "print(\"The length of the poem first line is: \" + str(len(first_line)))\n",
        "print(\"The starting character of the poem first line is: \" + first_line[0])\n",
        "print(\"The ending character of the poem first line is: \" + first_line[-1])"
      ],
      "metadata": {
        "colab": {
          "base_uri": "https://localhost:8080/"
        },
        "id": "W7ebPjmsMLYx",
        "outputId": "452f35b4-e10a-487b-88ed-b2a4e09de187"
      },
      "execution_count": 23,
      "outputs": [
        {
          "output_type": "stream",
          "name": "stdout",
          "text": [
            "Please Enter Your First Line of poem Raven by Edgar Allen Poe : Deep into that darkness peering,\n",
            "The length of the poem first line is: 32\n",
            "The starting character of the poem first line is: D\n",
            "The ending character of the poem first line is: ,\n"
          ]
        }
      ]
    },
    {
      "cell_type": "markdown",
      "source": [
        "**3.Removes extra characters from the start and end of a string and explain why you need to remove white spaces while exploring text.**\n",
        "\n",
        "The reason why we remove it is because Python process these white space and if we have no idea about white spaces, there cannot properly process the text."
      ],
      "metadata": {
        "id": "YkYnRtehTm7m"
      }
    },
    {
      "cell_type": "code",
      "source": [
        "my_string = \"  We should always removes extra characters from the start and end of string.   \"\n",
        "print(\"My uncleaned string is :\" + my_string)\n",
        "print(\"My uncleaned string length is :\" + str(len(my_string)))\n",
        "my_new_string = my_string.strip()\n",
        "print(\"My cleaned string length is :\" + str(len(my_new_string)))"
      ],
      "metadata": {
        "colab": {
          "base_uri": "https://localhost:8080/"
        },
        "id": "lhMQdj0jUKil",
        "outputId": "4daad853-ba38-4bd7-d66c-353081510632"
      },
      "execution_count": 22,
      "outputs": [
        {
          "output_type": "stream",
          "name": "stdout",
          "text": [
            "My uncleaned string is :  We should always removes extra characters from the start and end of string.   \n",
            "My uncleaned string length is :80\n",
            "My cleaned string length is :75\n"
          ]
        }
      ]
    }
  ]
}